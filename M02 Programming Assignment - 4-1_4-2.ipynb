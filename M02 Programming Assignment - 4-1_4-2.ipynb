{
 "cells": [
  {
   "cell_type": "code",
   "execution_count": 1,
   "id": "beacf9be",
   "metadata": {},
   "outputs": [
    {
     "name": "stdout",
     "output_type": "stream",
     "text": [
      "Guess to low\n"
     ]
    }
   ],
   "source": [
    "secret = 7\n",
    "guess = 3\n",
    "\n",
    "if guess > secret:\n",
    "    print(\"Guess to high\")\n",
    "elif secret > guess:\n",
    "    print(\"Guess to low\")\n",
    "else:\n",
    "    print(\"Correct\")"
   ]
  },
  {
   "cell_type": "code",
   "execution_count": null,
   "id": "da107575",
   "metadata": {},
   "outputs": [],
   "source": []
  },
  {
   "cell_type": "code",
   "execution_count": 2,
   "id": "e2da3b82",
   "metadata": {},
   "outputs": [
    {
     "ename": "NameError",
     "evalue": "name 'cherry' is not defined",
     "output_type": "error",
     "traceback": [
      "\u001b[1;31m---------------------------------------------------------------------------\u001b[0m",
      "\u001b[1;31mNameError\u001b[0m                                 Traceback (most recent call last)",
      "\u001b[1;32m~\\AppData\\Local\\Temp\\ipykernel_22652\\3507397562.py\u001b[0m in \u001b[0;36m<module>\u001b[1;34m\u001b[0m\n\u001b[0;32m      3\u001b[0m \u001b[1;33m\u001b[0m\u001b[0m\n\u001b[0;32m      4\u001b[0m \u001b[1;33m\u001b[0m\u001b[0m\n\u001b[1;32m----> 5\u001b[1;33m \u001b[1;32mif\u001b[0m \u001b[0mcherry\u001b[0m\u001b[1;33m:\u001b[0m\u001b[1;33m\u001b[0m\u001b[1;33m\u001b[0m\u001b[0m\n\u001b[0m\u001b[0;32m      6\u001b[0m     \u001b[0mgreen\u001b[0m \u001b[1;33m=\u001b[0m \u001b[1;32mFalse\u001b[0m\u001b[1;33m\u001b[0m\u001b[1;33m\u001b[0m\u001b[0m\n\u001b[0;32m      7\u001b[0m     \u001b[0msmall\u001b[0m \u001b[1;33m=\u001b[0m \u001b[1;32mTrue\u001b[0m\u001b[1;33m\u001b[0m\u001b[1;33m\u001b[0m\u001b[0m\n",
      "\u001b[1;31mNameError\u001b[0m: name 'cherry' is not defined"
     ]
    }
   ],
   "source": [
    "small = False\n",
    "green = True\n",
    "\n",
    "\n",
    "if cherry:\n",
    "    green = False\n",
    "    small = True\n",
    "elif watermelon:\n",
    "    green = True\n",
    "    small = False\n",
    "elif pea:\n",
    "    green = True\n",
    "    small = True\n",
    "elif pumpkin:\n",
    "    green = False\n",
    "    "
   ]
  },
  {
   "cell_type": "code",
   "execution_count": 3,
   "id": "15117095",
   "metadata": {},
   "outputs": [
    {
     "ename": "NameError",
     "evalue": "name 'cherry' is not defined",
     "output_type": "error",
     "traceback": [
      "\u001b[1;31m---------------------------------------------------------------------------\u001b[0m",
      "\u001b[1;31mNameError\u001b[0m                                 Traceback (most recent call last)",
      "\u001b[1;32m~\\AppData\\Local\\Temp\\ipykernel_22652\\2301740780.py\u001b[0m in \u001b[0;36m<module>\u001b[1;34m\u001b[0m\n\u001b[0;32m      3\u001b[0m \u001b[1;33m\u001b[0m\u001b[0m\n\u001b[0;32m      4\u001b[0m \u001b[1;33m\u001b[0m\u001b[0m\n\u001b[1;32m----> 5\u001b[1;33m \u001b[1;32mif\u001b[0m \u001b[0mcherry\u001b[0m\u001b[1;33m:\u001b[0m\u001b[1;33m\u001b[0m\u001b[1;33m\u001b[0m\u001b[0m\n\u001b[0m\u001b[0;32m      6\u001b[0m     \u001b[0mgreen\u001b[0m \u001b[1;33m=\u001b[0m \u001b[1;32mFalse\u001b[0m\u001b[1;33m\u001b[0m\u001b[1;33m\u001b[0m\u001b[0m\n\u001b[0;32m      7\u001b[0m     \u001b[0msmall\u001b[0m \u001b[1;33m=\u001b[0m \u001b[1;32mTrue\u001b[0m\u001b[1;33m\u001b[0m\u001b[1;33m\u001b[0m\u001b[0m\n",
      "\u001b[1;31mNameError\u001b[0m: name 'cherry' is not defined"
     ]
    }
   ],
   "source": [
    "small = False\n",
    "green = True\n",
    "\n",
    "\n",
    "if cherry:\n",
    "    green = False\n",
    "    small = True\n",
    "elif watermelon:\n",
    "    green = True\n",
    "    small = False\n",
    "elif pea:\n",
    "    green = True\n",
    "    small = True\n",
    "elif pumpkin:\n",
    "    green = False\n",
    "    small = False"
   ]
  },
  {
   "cell_type": "code",
   "execution_count": 4,
   "id": "d9bab4f0",
   "metadata": {},
   "outputs": [
    {
     "name": "stdout",
     "output_type": "stream",
     "text": [
      "Input one of the following fruit: cherry, pea, watermelon, pumpkincherry\n"
     ]
    },
    {
     "ename": "NameError",
     "evalue": "name 'cherry' is not defined",
     "output_type": "error",
     "traceback": [
      "\u001b[1;31m---------------------------------------------------------------------------\u001b[0m",
      "\u001b[1;31mNameError\u001b[0m                                 Traceback (most recent call last)",
      "\u001b[1;32m~\\AppData\\Local\\Temp\\ipykernel_22652\\2637941124.py\u001b[0m in \u001b[0;36m<module>\u001b[1;34m\u001b[0m\n\u001b[0;32m      3\u001b[0m \u001b[0minput\u001b[0m\u001b[1;33m(\u001b[0m\u001b[1;34m\"Input one of the following fruit: cherry, pea, watermelon, pumpkin\"\u001b[0m\u001b[1;33m)\u001b[0m\u001b[1;33m\u001b[0m\u001b[1;33m\u001b[0m\u001b[0m\n\u001b[0;32m      4\u001b[0m \u001b[1;33m\u001b[0m\u001b[0m\n\u001b[1;32m----> 5\u001b[1;33m \u001b[1;32mif\u001b[0m \u001b[0mcherry\u001b[0m\u001b[1;33m:\u001b[0m\u001b[1;33m\u001b[0m\u001b[1;33m\u001b[0m\u001b[0m\n\u001b[0m\u001b[0;32m      6\u001b[0m     \u001b[0mgreen\u001b[0m \u001b[1;33m=\u001b[0m \u001b[1;32mFalse\u001b[0m\u001b[1;33m\u001b[0m\u001b[1;33m\u001b[0m\u001b[0m\n\u001b[0;32m      7\u001b[0m     \u001b[0msmall\u001b[0m \u001b[1;33m=\u001b[0m \u001b[1;32mTrue\u001b[0m\u001b[1;33m\u001b[0m\u001b[1;33m\u001b[0m\u001b[0m\n",
      "\u001b[1;31mNameError\u001b[0m: name 'cherry' is not defined"
     ]
    }
   ],
   "source": [
    "small = False\n",
    "green = True\n",
    "input(\"Input one of the following fruit: cherry, pea, watermelon, pumpkin\")\n",
    "\n",
    "if cherry:\n",
    "    green = False\n",
    "    small = True\n",
    "    print(\"green = \"+green+\"Small = \"+small)\n",
    "elif watermelon:\n",
    "    green = True\n",
    "    small = False\n",
    "    print(\"green = \"+green+\"Small = \"+small)\n",
    "elif pea:\n",
    "    green = True\n",
    "    small = True\n",
    "    print(\"green = \"+green+\"Small = \"+small)\n",
    "elif pumpkin:\n",
    "    green = False\n",
    "    small = False\n",
    "    print(\"green = \"+green+\"Small = \"+small)\n",
    "else:\n",
    "    print(\"Error\")"
   ]
  },
  {
   "cell_type": "code",
   "execution_count": 10,
   "id": "ff5bac9c",
   "metadata": {},
   "outputs": [
    {
     "name": "stdout",
     "output_type": "stream",
     "text": [
      "Input one of the following fruit: cherry, pea, watermelon, pumpkincherry\n",
      "cherry\n"
     ]
    },
    {
     "ename": "NameError",
     "evalue": "name 'cherry' is not defined",
     "output_type": "error",
     "traceback": [
      "\u001b[1;31m---------------------------------------------------------------------------\u001b[0m",
      "\u001b[1;31mNameError\u001b[0m                                 Traceback (most recent call last)",
      "\u001b[1;32m~\\AppData\\Local\\Temp\\ipykernel_22652\\3904107615.py\u001b[0m in \u001b[0;36m<module>\u001b[1;34m\u001b[0m\n\u001b[0;32m      3\u001b[0m \u001b[0mfruit\u001b[0m \u001b[1;33m=\u001b[0m \u001b[0mstr\u001b[0m\u001b[1;33m(\u001b[0m\u001b[0minput\u001b[0m\u001b[1;33m(\u001b[0m\u001b[1;34m\"Input one of the following fruit: cherry, pea, watermelon, pumpkin\"\u001b[0m\u001b[1;33m)\u001b[0m\u001b[1;33m)\u001b[0m\u001b[1;33m\u001b[0m\u001b[1;33m\u001b[0m\u001b[0m\n\u001b[0;32m      4\u001b[0m \u001b[0mprint\u001b[0m\u001b[1;33m(\u001b[0m\u001b[0mfruit\u001b[0m\u001b[1;33m)\u001b[0m\u001b[1;33m\u001b[0m\u001b[1;33m\u001b[0m\u001b[0m\n\u001b[1;32m----> 5\u001b[1;33m \u001b[0mcherry\u001b[0m \u001b[1;33m=\u001b[0m \u001b[0mstr\u001b[0m\u001b[1;33m(\u001b[0m\u001b[0mcherry\u001b[0m\u001b[1;33m)\u001b[0m\u001b[1;33m\u001b[0m\u001b[1;33m\u001b[0m\u001b[0m\n\u001b[0m\u001b[0;32m      6\u001b[0m \u001b[0mwatermelon\u001b[0m \u001b[1;33m=\u001b[0m \u001b[0mstr\u001b[0m\u001b[1;33m(\u001b[0m\u001b[0mwatermelon\u001b[0m\u001b[1;33m)\u001b[0m\u001b[1;33m\u001b[0m\u001b[1;33m\u001b[0m\u001b[0m\n\u001b[0;32m      7\u001b[0m \u001b[0mpea\u001b[0m \u001b[1;33m=\u001b[0m \u001b[0mstr\u001b[0m\u001b[1;33m(\u001b[0m\u001b[0mpea\u001b[0m\u001b[1;33m)\u001b[0m\u001b[1;33m\u001b[0m\u001b[1;33m\u001b[0m\u001b[0m\n",
      "\u001b[1;31mNameError\u001b[0m: name 'cherry' is not defined"
     ]
    }
   ],
   "source": [
    "small = False\n",
    "green = True\n",
    "fruit = str(input(\"Input one of the following fruit: cherry, pea, watermelon, pumpkin\"))\n",
    "print(fruit)\n",
    "cherry = str(cherry)\n",
    "watermelon = str(watermelon)\n",
    "pea = str(pea)\n",
    "pumpkin = str(pumpkin)\n",
    "if fruit == cherry:\n",
    "    green = False\n",
    "    small = True\n",
    "    print(\"green = \"+green+\"Small = \"+small)\n",
    "elif fruit == watermelon:\n",
    "    green = True\n",
    "    small = False\n",
    "    print(\"green = \"+green+\"Small = \"+small)\n",
    "elif fruit == pea:\n",
    "    green = True\n",
    "    small = True\n",
    "    print(\"green = \"+green+\"Small = \"+small)\n",
    "elif fruit == pumpkin:\n",
    "    green = False\n",
    "    small = False\n",
    "    print(\"green = \"+green+\"Small = \"+small)\n",
    "else:\n",
    "    print(\"Error\")"
   ]
  },
  {
   "cell_type": "code",
   "execution_count": 11,
   "id": "a2a2ab36",
   "metadata": {},
   "outputs": [
    {
     "ename": "SyntaxError",
     "evalue": "invalid syntax (247812812.py, line 1)",
     "output_type": "error",
     "traceback": [
      "\u001b[1;36m  File \u001b[1;32m\"C:\\Users\\alexa\\AppData\\Local\\Temp\\ipykernel_22652\\247812812.py\"\u001b[1;36m, line \u001b[1;32m1\u001b[0m\n\u001b[1;33m    I hate python sometimes\u001b[0m\n\u001b[1;37m      ^\u001b[0m\n\u001b[1;31mSyntaxError\u001b[0m\u001b[1;31m:\u001b[0m invalid syntax\n"
     ]
    }
   ],
   "source": [
    "I hate python sometimes"
   ]
  },
  {
   "cell_type": "code",
   "execution_count": 12,
   "id": "e341db69",
   "metadata": {},
   "outputs": [
    {
     "ename": "SyntaxError",
     "evalue": "invalid syntax (3782707559.py, line 13)",
     "output_type": "error",
     "traceback": [
      "\u001b[1;36m  File \u001b[1;32m\"C:\\Users\\alexa\\AppData\\Local\\Temp\\ipykernel_22652\\3782707559.py\"\u001b[1;36m, line \u001b[1;32m13\u001b[0m\n\u001b[1;33m    //I went to visual studio so that this wasnt filled with errors\u001b[0m\n\u001b[1;37m    ^\u001b[0m\n\u001b[1;31mSyntaxError\u001b[0m\u001b[1;31m:\u001b[0m invalid syntax\n"
     ]
    }
   ],
   "source": [
    "small = False\n",
    "green = True\n",
    "\n",
    "if small and green:\n",
    "    print(\"cherry\")\n",
    "elif small and not green:\n",
    "    print(\"watermelon\")\n",
    "elif not small and green:\n",
    "    print(\"pea\")\n",
    "elif not small and not green:\n",
    "    print(\"pumpkin\")\n",
    "    \n",
    "//I went to visual studio so that this wasnt filled with errors"
   ]
  },
  {
   "cell_type": "code",
   "execution_count": 13,
   "id": "7b09dc7b",
   "metadata": {},
   "outputs": [
    {
     "name": "stdout",
     "output_type": "stream",
     "text": [
      "pea\n"
     ]
    }
   ],
   "source": [
    "small = False\n",
    "green = True\n",
    "\n",
    "if small and green:\n",
    "    print(\"cherry\")\n",
    "elif small and not green:\n",
    "    print(\"watermelon\")\n",
    "elif not small and green:\n",
    "    print(\"pea\")\n",
    "elif not small and not green:\n",
    "    print(\"pumpkin\")\n",
    "    \n",
    "#I went to visual studio so that this wasnt filled with errors, what language is that the note sign for? Cause I have no clue why I used it"
   ]
  },
  {
   "cell_type": "code",
   "execution_count": null,
   "id": "5f8d6b41",
   "metadata": {},
   "outputs": [],
   "source": []
  }
 ],
 "metadata": {
  "kernelspec": {
   "display_name": "Python 3 (ipykernel)",
   "language": "python",
   "name": "python3"
  },
  "language_info": {
   "codemirror_mode": {
    "name": "ipython",
    "version": 3
   },
   "file_extension": ".py",
   "mimetype": "text/x-python",
   "name": "python",
   "nbconvert_exporter": "python",
   "pygments_lexer": "ipython3",
   "version": "3.9.13"
  }
 },
 "nbformat": 4,
 "nbformat_minor": 5
}
