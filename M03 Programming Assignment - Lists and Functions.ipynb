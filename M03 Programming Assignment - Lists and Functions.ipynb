{
 "cells": [
  {
   "cell_type": "code",
   "execution_count": 12,
   "id": "6e3154c6",
   "metadata": {},
   "outputs": [
    {
     "name": "stdout",
     "output_type": "stream",
     "text": [
      "['mozzarella', 'cinderella', 'salmonella']\n"
     ]
    }
   ],
   "source": [
    "7.4 - 7.7\n",
    "things = [\"mozzarella\", \"cinderella\", \"salmonella\"]\n",
    "print(things)"
   ]
  },
  {
   "cell_type": "code",
   "execution_count": 13,
   "id": "734160e9",
   "metadata": {},
   "outputs": [
    {
     "name": "stdout",
     "output_type": "stream",
     "text": [
      "['mozzarella', 'cinderella', 'salmonella']\n"
     ]
    }
   ],
   "source": [
    "7.4 - 7.7\n",
    "things = [\"mozzarella\", \"cinderella\", \"salmonella\"]\n",
    "print(things)"
   ]
  },
  {
   "cell_type": "code",
   "execution_count": null,
   "id": "c9479580",
   "metadata": {},
   "outputs": [],
   "source": []
  },
  {
   "cell_type": "code",
   "execution_count": 14,
   "id": "5b9a30a6",
   "metadata": {},
   "outputs": [
    {
     "name": "stdout",
     "output_type": "stream",
     "text": [
      "['mozzarella', 'cinderella', 'salmonella']\n"
     ]
    }
   ],
   "source": [
    "7.4 - 7.7\n",
    "things = [\"mozzarella\", \"cinderella\", \"salmonella\"]\n",
    "\n",
    "print(things)"
   ]
  },
  {
   "cell_type": "code",
   "execution_count": 15,
   "id": "869b8e81",
   "metadata": {},
   "outputs": [
    {
     "name": "stdout",
     "output_type": "stream",
     "text": [
      "['mozzarella', 'Cinderella', 'salmonella']\n"
     ]
    }
   ],
   "source": [
    "7.4 - 7.7\n",
    "things = [\"mozzarella\", \"Cinderella\", \"salmonella\"]\n",
    "print(things)"
   ]
  },
  {
   "cell_type": "code",
   "execution_count": 16,
   "id": "700d68a9",
   "metadata": {},
   "outputs": [],
   "source": [
    "#Yes it did change it"
   ]
  },
  {
   "cell_type": "code",
   "execution_count": 8,
   "id": "5356f19b",
   "metadata": {},
   "outputs": [
    {
     "name": "stdout",
     "output_type": "stream",
     "text": [
      "['MOZZARELLA', 'cinderella', 'salmonella']\n"
     ]
    }
   ],
   "source": [
    "7.4 - 7.7\n",
    "things = [\"MOZZARELLA\", \"cinderella\", \"salmonella\"]\n",
    "print(things)"
   ]
  },
  {
   "cell_type": "code",
   "execution_count": 10,
   "id": "6f8c86ff",
   "metadata": {},
   "outputs": [],
   "source": [
    "#Yes it did change it"
   ]
  },
  {
   "cell_type": "code",
   "execution_count": 11,
   "id": "56b0e88b",
   "metadata": {},
   "outputs": [
    {
     "name": "stdout",
     "output_type": "stream",
     "text": [
      "['MOZZARELLA', 'cinderella']\n"
     ]
    }
   ],
   "source": [
    "7.4 - 7.7\n",
    "things = [\"MOZZARELLA\", \"cinderella\"]\n",
    "print(things)"
   ]
  },
  {
   "cell_type": "code",
   "execution_count": 17,
   "id": "1b7ab290",
   "metadata": {},
   "outputs": [],
   "source": [
    "#I collect my nobel prize here"
   ]
  },
  {
   "cell_type": "code",
   "execution_count": null,
   "id": "62d24ad8",
   "metadata": {},
   "outputs": [],
   "source": [
    "9.1-9.2\n"
   ]
  },
  {
   "cell_type": "code",
   "execution_count": null,
   "id": "7befc4ee",
   "metadata": {},
   "outputs": [],
   "source": [
    "def good(good):\n",
    "    good = [\"Harry\", \"Ron\", \"Hermione\"]\n",
    "    return good\n",
    "\n",
    "def get_odd():\n",
    "    x = []\n",
    "    start, end = 1, 10\n",
    "    if start < end:\n",
    "        x.extend(range(start, end))\n",
    "        x.append(end)\n",
    "    position = 2\n",
    "    int(position)\n",
    "    print(x[position])\n",
    "\n",
    "print(get_odd())"
   ]
  },
  {
   "cell_type": "code",
   "execution_count": null,
   "id": "a213db77",
   "metadata": {},
   "outputs": [],
   "source": [
    "#It works on visual studio why isn't it here"
   ]
  },
  {
   "cell_type": "code",
   "execution_count": null,
   "id": "1bdb4e5a",
   "metadata": {},
   "outputs": [],
   "source": []
  }
 ],
 "metadata": {
  "kernelspec": {
   "display_name": "Python 3 (ipykernel)",
   "language": "python",
   "name": "python3"
  },
  "language_info": {
   "codemirror_mode": {
    "name": "ipython",
    "version": 3
   },
   "file_extension": ".py",
   "mimetype": "text/x-python",
   "name": "python",
   "nbconvert_exporter": "python",
   "pygments_lexer": "ipython3",
   "version": "3.9.13"
  }
 },
 "nbformat": 4,
 "nbformat_minor": 5
}
