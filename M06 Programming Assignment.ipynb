{
 "cells": [
  {
   "cell_type": "code",
   "execution_count": 2,
   "id": "6e0186a9",
   "metadata": {},
   "outputs": [],
   "source": [
    "import datetime\n",
    "\n",
    "current_date = datetime.date.today().strftime('%Y-%m-%d')\n",
    "\n",
    "with open('today.txt', 'w') as file:\n",
    "    file.write(current_date)"
   ]
  },
  {
   "cell_type": "code",
   "execution_count": 3,
   "id": "4739d725",
   "metadata": {},
   "outputs": [],
   "source": [
    "import datetime\n",
    "\n",
    "current_date = datetime.date.today().strftime('%Y-%m-%d')\n",
    "\n",
    "with open('today.txt', 'r') as file:\n",
    "    today_string = file.read()"
   ]
  },
  {
   "cell_type": "code",
   "execution_count": 4,
   "id": "81225c10",
   "metadata": {},
   "outputs": [
    {
     "name": "stdout",
     "output_type": "stream",
     "text": [
      "2023-04-26\n"
     ]
    }
   ],
   "source": [
    "import datetime\n",
    "\n",
    "with open('today.txt', 'r') as file:\n",
    "    today_string = file.read()\n",
    "\n",
    "today_date = datetime.datetime.strptime(today_string, '%Y-%m-%d').date()\n",
    "\n",
    "print(today_date)"
   ]
  },
  {
   "cell_type": "code",
   "execution_count": 5,
   "id": "69481c1a",
   "metadata": {},
   "outputs": [],
   "source": [
    "import multiprocessing\n",
    "import random\n",
    "import time\n",
    "from datetime import datetime\n",
    "\n",
    "def worker():\n",
    "    # waits for a random number of time\n",
    "    sleep_time = random.random()\n",
    "    time.sleep(sleep_time)\n",
    "    \n",
    "    # Prints time\n",
    "    current_time = datetime.now().strftime(\"%H:%M:%S.%f\")\n",
    "    print(f\"Process {multiprocessing.current_process().name} finished at {current_time}\")\n",
    "\n",
    "if __name__ == \"__main__\":\n",
    "    # Creates the processes\n",
    "    processes = []\n",
    "    for i in range(3):\n",
    "        p = multiprocessing.Process(target=worker, name=f\"Process {i}\")\n",
    "        processes.append(p)\n",
    "        p.start()\n",
    "    \n",
    "    # wating for all processes to finsih\n",
    "    for p in processes:\n",
    "        p.join()\n"
   ]
  },
  {
   "cell_type": "code",
   "execution_count": null,
   "id": "b81b7009",
   "metadata": {},
   "outputs": [],
   "source": []
  }
 ],
 "metadata": {
  "kernelspec": {
   "display_name": "Python 3 (ipykernel)",
   "language": "python",
   "name": "python3"
  },
  "language_info": {
   "codemirror_mode": {
    "name": "ipython",
    "version": 3
   },
   "file_extension": ".py",
   "mimetype": "text/x-python",
   "name": "python",
   "nbconvert_exporter": "python",
   "pygments_lexer": "ipython3",
   "version": "3.9.13"
  }
 },
 "nbformat": 4,
 "nbformat_minor": 5
}
